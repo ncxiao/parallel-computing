{
 "cells": [
  {
   "cell_type": "markdown",
   "metadata": {},
   "source": [
    "# Introduction to Parallel Computing using Python\n",
    "\n",
    "**Ningchuan Xiao**  \n",
    "November 30, 2017\n",
    "\n",
    "The goal of this workshop is to introduce some fundamental concepts of parallel computing. We focus on what we can do with Python, but in the meantime we will also discuss the computing environment. Two examples, kernel density estimation and a Monte Carlo simulation, will be used to demonstrate the pros and cons of parallel computing.\n",
    "\n",
    "## Levels of parallelism\n",
    "\n",
    "If we think about the two fundamental parts of computing, data and program, there are different ways we can separate them. Here is Flynn's taxonomy:\n",
    "\n",
    "- SISD, Single instruction stream single data stream. A single processor executes a single data stream. This is the fundamental concept of von Neumann architecture. This is what we call a serial computer, where data is processed in sequentially. A single core on a PC is an example of this. My old machine with an Intel i486DX is also an example of this.\n",
    "- SIMD, Single instruction, multiple data. Exactly the same instructions are executed at the same time by the processors, but the processors can work on different part of the data. It typically relies on an array of processors where the instruction is dispatched and an network for the processors to access the data. But again, the processors all run the same instruction at the same time. [Cray C90](https://en.wikipedia.org/wiki/Cray_C90) and IBM 9000 are the examples.\n",
    "- MISD, Multiple instruction streams, single data stream. There are multiple instructions that work on the same data. There aren't too many examples of this on the market. However, we can think of multiple agents and they all try to compute something using the same data set. The data cannot be decomposed (hence single data stream), and there will be multiple results, each coming from one processor. Hardware wise, we don't have many examples of machines like this.\n",
    "- MIMD, multiple instruction, multiple data. Most of today's parallel computers (including the multiple core PCs) use an MIMD architecture. \n",
    "\n",
    "To further understand parallel computing, we will also discuss the following important concepts:\n",
    "\n",
    "- Critical section\n",
    "- Multicore\n",
    "- Shared memory\n",
    "- Symmetric multiprocessing (SMP)\n",
    "- Computer cluster\n",
    "- Multithreading and parallelism\n",
    "- Message passing and message passing interface (MPI)\n",
    "- Embarrassingly parallel\n",
    "- Speedup (also see [Amdahl's law](https://en.wikipedia.org/wiki/Amdahl%27s_law))\n"
   ]
  },
  {
   "cell_type": "markdown",
   "metadata": {},
   "source": [
    "## Programming Paradigms\n",
    "\n",
    "We focus on Python here and will discuss two particularly paradigms, multiprocessing that is suitable for SMP and scoop that is suitable for a clustered environment (and SMP as well).\n",
    "\n",
    "### Installation\n",
    "\n",
    "Installing **multiprocessing** is straightforward. If it is not already installed by default, use the following command to install it:\n",
    "\n",
    "`pip3 install multiprocessing`\n",
    "\n",
    "Installing **scoop**, however, will require more than just the Python part. For the Python part, though, we will need to use either pip or easy_install (because pip may not work for some cases).\n",
    "\n",
    "`pip3 install scoop`\n",
    "\n",
    "or\n",
    "\n",
    "`easy_install-3.6 scoop`\n",
    "\n",
    "In addition to installing the software, running scoop requires the use of **ssh** (secure shell), both the server and the client. For macOS, the ssh client is already installed by default and we only need to enable the server. To do so, go to Settings and click on Sharing. In the Sharing page, make sure Remote Login is checked on the left panel. \n",
    "\n",
    "For Windows machines, [putty](http://www.putty.org) is a commonly used client. The putty web page also contains links to [Bitvise SSH Client](https://www.bitvise.com/ssh-client-download) and [Bitvise SSH Server](https://www.bitvise.com/ssh-server-download). "
   ]
  },
  {
   "cell_type": "markdown",
   "metadata": {},
   "source": [
    "Before we do more computing tasks, let's take a look at our computing environment. To see the number of processors, we will have to import the multiprocessing module."
   ]
  },
  {
   "cell_type": "code",
   "execution_count": 4,
   "metadata": {
    "scrolled": true
   },
   "outputs": [
    {
     "name": "stdout",
     "output_type": "stream",
     "text": [
      "Python      : 3.6.3\n",
      "compiler    : GCC 4.2.1 (Apple Inc. build 5666) (dot 3)\n",
      "system      : Darwin\n",
      "release     : 17.2.0\n",
      "machine     : x86_64\n",
      "processor   : i386\n",
      "CPU count   : 4\n",
      "Interpreter : 64bit\n"
     ]
    }
   ],
   "source": [
    "import platform\n",
    "import multiprocessing as mp\n",
    "\n",
    "print('Python      :', platform.python_version())\n",
    "print('compiler    :', platform.python_compiler())\n",
    "print('system      :', platform.system())\n",
    "print('release     :', platform.release())\n",
    "print('machine     :', platform.machine())\n",
    "print('processor   :', platform.processor())\n",
    "print('CPU count   :', mp.cpu_count())\n",
    "print('Interpreter :', platform.architecture()[0])"
   ]
  },
  {
   "cell_type": "markdown",
   "metadata": {},
   "source": [
    "## Hello World!\n",
    "\n",
    "To utilize the multiple cores on this computer, we first take a look at the multiprocessing library of Python. This is especially good for a shared memory environment.\n",
    "\n",
    "The multiprocessing module can be used in different ways and here we explore some of them. The first method is the Queue class. To retrieve the final result, it is necessary to use the `get` method of the Queue class at the end."
   ]
  },
  {
   "cell_type": "code",
   "execution_count": 5,
   "metadata": {},
   "outputs": [
    {
     "name": "stdout",
     "output_type": "stream",
     "text": [
      "Hello World, from 0\n",
      "Hello World, from 1\n",
      "Hello World, from 2\n",
      "Hello World, from 3\n",
      "Hello World, from 4\n",
      "Hello World, from 5\n",
      "Hello World, from 6\n",
      "Hello World, from 7\n",
      "Hello World, from 8\n",
      "Hello World, from 9\n",
      "Hello World, from 10\n",
      "Hello World, from 11\n",
      "Hello World, from 12\n",
      "Hello World, from 13\n",
      "Hello World, from 14\n",
      "Hello World, from 15\n",
      "Hello World, from 16\n",
      "Hello World, from 17\n",
      "Hello World, from 18\n",
      "Hello World, from 19\n"
     ]
    }
   ],
   "source": [
    "output = mp.Queue()\n",
    "\n",
    "def worker(i, output):\n",
    "    output.put('Hello World, from {}'.format(i))\n",
    "\n",
    "processes = [mp.Process(target=worker, args=(x, output)) for x in range(20)]\n",
    "\n",
    "for p in processes:\n",
    "    p.start()\n",
    "\n",
    "for p in processes:\n",
    "    p.join()\n",
    "\n",
    "results = [output.get() for p in processes]\n",
    "\n",
    "for r in results:\n",
    "    print(r)"
   ]
  },
  {
   "cell_type": "markdown",
   "metadata": {},
   "source": [
    "The above process can be simplified using the `Manager` class of multiprocessing, which gives us a way to specify a list so that we can put results in that list. This is a special list because it will support concurrency (thus needs to be managed by a `Manager` object). A regular list may not be able to allow us to operate on it concurrently. "
   ]
  },
  {
   "cell_type": "code",
   "execution_count": 6,
   "metadata": {},
   "outputs": [
    {
     "name": "stdout",
     "output_type": "stream",
     "text": [
      "Hello World, from 0\n",
      "Hello World, from 1\n",
      "Hello World, from 2\n",
      "Hello World, from 3\n",
      "Hello World, from 4\n",
      "Hello World, from 5\n",
      "Hello World, from 6\n",
      "Hello World, from 8\n",
      "Hello World, from 7\n",
      "Hello World, from 9\n",
      "Hello World, from 10\n",
      "Hello World, from 11\n",
      "Hello World, from 12\n",
      "Hello World, from 13\n",
      "Hello World, from 14\n",
      "Hello World, from 15\n",
      "Hello World, from 16\n",
      "Hello World, from 17\n",
      "Hello World, from 18\n",
      "Hello World, from 19\n"
     ]
    }
   ],
   "source": [
    "manager = mp.Manager()\n",
    "output2 = manager.list()\n",
    "\n",
    "def worker(i, output):\n",
    "    output.append('Hello World, from {}'.format(i))\n",
    "\n",
    "processes = [mp.Process(target=worker, args=(x, output2)) for x in range(20)]\n",
    "\n",
    "for p in processes:\n",
    "    p.start()\n",
    "\n",
    "for p in processes:\n",
    "    p.join()\n",
    "\n",
    "for r in output2:\n",
    "    print(r)"
   ]
  },
  {
   "cell_type": "markdown",
   "metadata": {},
   "source": [
    "Let's make some more useful examples:"
   ]
  },
  {
   "cell_type": "code",
   "execution_count": 8,
   "metadata": {
    "scrolled": false
   },
   "outputs": [
    {
     "name": "stdout",
     "output_type": "stream",
     "text": [
      "[0, 1, 16, 81, 256, 1296, 625, 2401, 4096, 6561, 10000, 14641, 20736, 28561, 38416, 50625, 83521, 65536, 130321, 104976]\n"
     ]
    }
   ],
   "source": [
    "import multiprocessing as mp\n",
    "from math import pow\n",
    "\n",
    "manager = mp.Manager()\n",
    "output = manager.list()\n",
    "\n",
    "def powered(x, out):\n",
    "    out.append(int(pow(x, 4)))\n",
    "\n",
    "processes = [mp.Process(target=powered, args=(x,output)) for x in range(20)]\n",
    "\n",
    "for p in processes:\n",
    "    p.start()\n",
    "\n",
    "for p in processes:\n",
    "    p.join()\n",
    "\n",
    "print(output)"
   ]
  },
  {
   "cell_type": "markdown",
   "metadata": {},
   "source": [
    "### Pool class\n",
    "\n",
    "The use of `Manager` and `Queue` classes are simple but not convenient. Also the order of the output can be somehow unexpected, because the processes may not finish in the order as we set them up. These processes are asynchronous. There is another class called Pool in multiprocessing that can be more convenient to use. This class extends two very useful functions in Python: [`apply`](https://docs.python.org/3.6/library/functions.html#apply) and [`map`](https://docs.python.org/3.6/library/functions.html#map) (note apply is for Python 2 only).\n",
    "\n",
    "Here is a use of the Pool class using the apply method:"
   ]
  },
  {
   "cell_type": "code",
   "execution_count": 9,
   "metadata": {},
   "outputs": [
    {
     "name": "stdout",
     "output_type": "stream",
     "text": [
      "[0, 1, 16, 81, 256, 625, 1296, 2401, 4096, 6561, 10000, 14641, 20736, 28561, 38416, 50625, 65536, 83521, 104976, 130321]\n"
     ]
    }
   ],
   "source": [
    "def worker(x):\n",
    "    return int(pow(x, 4))\n",
    "\n",
    "pool = mp.Pool(processes=4)\n",
    "results = [pool.apply(worker, args=(x,)) for x in range(20)]\n",
    "print(results)"
   ]
  },
  {
   "cell_type": "markdown",
   "metadata": {},
   "source": [
    "The map method does not need a for loop:"
   ]
  },
  {
   "cell_type": "code",
   "execution_count": 10,
   "metadata": {
    "scrolled": true
   },
   "outputs": [
    {
     "name": "stdout",
     "output_type": "stream",
     "text": [
      "[0, 1, 16, 81, 256, 625, 1296, 2401, 4096, 6561, 10000, 14641, 20736, 28561, 38416, 50625, 65536, 83521, 104976, 130321]\n"
     ]
    }
   ],
   "source": [
    "pool = mp.Pool(processes=4)\n",
    "results = pool.map(worker, range(20))\n",
    "print(results)"
   ]
  },
  {
   "cell_type": "markdown",
   "metadata": {
    "collapsed": true
   },
   "source": [
    "These two methods, apply and map, block the function until it is done. This may cause delay because some function calls (recall we are in a concurrent environment) may finish sooner than others. Thus it is often more efficient to use the async versions of these methods. When this is the case, we must of the get method of the result to retrieve the results after the function is finished."
   ]
  },
  {
   "cell_type": "code",
   "execution_count": 11,
   "metadata": {},
   "outputs": [
    {
     "name": "stdout",
     "output_type": "stream",
     "text": [
      "[0, 1, 16, 81, 256, 625, 1296, 2401, 4096, 6561, 10000, 14641, 20736, 28561, 38416, 50625, 65536, 83521, 104976, 130321]\n"
     ]
    }
   ],
   "source": [
    "pool = mp.Pool(processes=4)\n",
    "results = pool.map_async(worker, range(20))\n",
    "print(results.get())"
   ]
  },
  {
   "cell_type": "markdown",
   "metadata": {},
   "source": [
    "![](rpicluster1.jpg)\n",
    "\n",
    "## Hello from a cluster!\n",
    "\n",
    "A computer cluster is different from SMP because there are multiple computers connected through a network to make a cluster. For this reason, it takes more to pass information to different computers, which is a critical part of parallel computing. There are different approaches proposed to address this issue. A commonly used one is called message passing interface (MPI). It should be noted that MPI is a standard, not a software system or library. This standard is implemented by different organization and agencies, mostly using C and C++. There are also higher level wrappers of MPI, including the very popular OpenMP. Outside C/C++, there are other language bindings, including Python, but they typically require the binary library to be installed, and installing such a framework may take a lot of work. Here, we are going to use [scoop](http://scoop.readthedocs.io/en/0.7/) to run code on a compute cluster. Writing the code may actually seem to be more straightforward than setting up the hardware. Here is the scoop version of Hello World:\n",
    "\n",
    "```python\n",
    "import os\n",
    "import socket\n",
    "from scoop import futures\n",
    "\n",
    "def helloWorld(value):\n",
    "    return \"Hello World from Future #{0}, pid {1}, host {2}\".format(value, os.getpid(), socket.gethostname())\n",
    "\n",
    "if __name__ == \"__main__\":\n",
    "    returnValues = list(futures.map(helloWorld, range(16)))\n",
    "    print(\"\\n\".join(returnValues))\n",
    "```\n",
    "\n",
    "We run this program using 4 nodes on the same host like this:\n",
    "\n",
    "```\n",
    "python3 -m scoop -n 4 helloworld.py \n",
    "```\n",
    "\n",
    "And here is the output from the run:\n",
    "\n",
    "```\n",
    "[2017-12-01 01:03:02,771] launcher  INFO    SCOOP 0.7 1.1 on darwin using Python 3.6.3 (v3.6.3:2c5fed86e0, Oct  3 2017, 00:32:08) [GCC 4.2.1 (Apple Inc. build 5666) (dot 3)], API: 1013\n",
    "[2017-12-01 01:03:02,771] launcher  INFO    Deploying 4 worker(s) over 1 host(s).\n",
    "[2017-12-01 01:03:02,771] launcher  INFO    Worker distribution: \n",
    "[2017-12-01 01:03:02,771] launcher  INFO       127.0.0.1:\t3 + origin\n",
    "Hello World from Future #0, pid 5645, host Ningchuans-MacBook-Pro.local\n",
    "Hello World from Future #1, pid 5646, host Ningchuans-MacBook-Pro.local\n",
    "Hello World from Future #2, pid 5645, host Ningchuans-MacBook-Pro.local\n",
    "Hello World from Future #3, pid 5646, host Ningchuans-MacBook-Pro.local\n",
    "Hello World from Future #4, pid 5645, host Ningchuans-MacBook-Pro.local\n",
    "Hello World from Future #5, pid 5644, host Ningchuans-MacBook-Pro.local\n",
    "Hello World from Future #6, pid 5646, host Ningchuans-MacBook-Pro.local\n",
    "Hello World from Future #7, pid 5647, host Ningchuans-MacBook-Pro.local\n",
    "Hello World from Future #8, pid 5645, host Ningchuans-MacBook-Pro.local\n",
    "Hello World from Future #9, pid 5646, host Ningchuans-MacBook-Pro.local\n",
    "Hello World from Future #10, pid 5647, host Ningchuans-MacBook-Pro.local\n",
    "Hello World from Future #11, pid 5644, host Ningchuans-MacBook-Pro.local\n",
    "Hello World from Future #12, pid 5645, host Ningchuans-MacBook-Pro.local\n",
    "Hello World from Future #13, pid 5646, host Ningchuans-MacBook-Pro.local\n",
    "Hello World from Future #14, pid 5645, host Ningchuans-MacBook-Pro.local\n",
    "Hello World from Future #15, pid 5647, host Ningchuans-MacBook-Pro.local\n",
    "[2017-12-01 01:03:03,800] launcher  (127.0.0.1:61988) INFO    Root process is done.\n",
    "[2017-12-01 01:03:03,801] launcher  (127.0.0.1:61988) INFO    Finished cleaning spawned subprocesses.\n",
    "```\n",
    "\n",
    "To run this on multiple hosts, we need a host file that contains the addresses of the hosts (either IP addresses or host names). Here is what I have for the PI cluster:\n",
    "\n",
    "```\n",
    "pi@xpi0:~/work/scoop $ cat hostfile\n",
    "xpi0\n",
    "xpi1\n",
    "xpi2\n",
    "xpi3\n",
    "```\n",
    "\n",
    "And if we run the same code, \n",
    "\n",
    "```\n",
    "$ python3 -m scoop -n 4 --hostfile hostfile helloworld.py\n",
    "[2017-12-01 01:00:05,510] launcher  INFO    SCOOP 0.7 1.1 on linux using Python 3.4.2 (default, Oct 19 2014, 13:31:11) [GCC 4.9.1], API: 1013\n",
    "[2017-12-01 01:00:05,510] launcher  INFO    Deploying 4 worker(s) over 4 host(s).\n",
    "[2017-12-01 01:00:05,511] launcher  INFO    Worker distribution: \n",
    "[2017-12-01 01:00:05,511] launcher  INFO       xpi0:\t0 + origin\n",
    "[2017-12-01 01:00:05,511] launcher  INFO       xpi1:\t1 \n",
    "[2017-12-01 01:00:05,511] launcher  INFO       xpi2:\t1 \n",
    "[2017-12-01 01:00:05,512] launcher  INFO       xpi3:\t1 \n",
    "Hello World from Future #0, pid 1736, host xpi3\n",
    "Hello World from Future #1, pid 1755, host xpi2\n",
    "Hello World from Future #2, pid 1620, host xpi1\n",
    "Hello World from Future #3, pid 1736, host xpi3\n",
    "Hello World from Future #4, pid 1755, host xpi2\n",
    "Hello World from Future #5, pid 1620, host xpi1\n",
    "Hello World from Future #6, pid 1736, host xpi3\n",
    "Hello World from Future #7, pid 1755, host xpi2\n",
    "Hello World from Future #8, pid 1620, host xpi1\n",
    "Hello World from Future #9, pid 1736, host xpi3\n",
    "Hello World from Future #10, pid 1755, host xpi2\n",
    "Hello World from Future #11, pid 1947, host xpi0\n",
    "Hello World from Future #12, pid 1620, host xpi1\n",
    "Hello World from Future #13, pid 1947, host xpi0\n",
    "Hello World from Future #14, pid 1736, host xpi3\n",
    "Hello World from Future #15, pid 1947, host xpi0\n",
    "[2017-12-01 01:00:10,370] launcher  (127.0.0.1:40733) INFO    Root process is done.\n",
    "[2017-11-13 05:48:38,396] __main__  INFO    Worker(s) launched using /bin/bash\n",
    "[2017-11-13 05:48:34,338] __main__  INFO    Worker(s) launched using /bin/bash\n",
    "[2017-11-13 05:48:35,073] __main__  INFO    Worker(s) launched using /bin/bash\n",
    "[2017-12-01 01:00:11,764] launcher  (127.0.0.1:40733) INFO    Finished cleaning spawned subprocesses.\n",
    "```"
   ]
  },
  {
   "cell_type": "markdown",
   "metadata": {},
   "source": [
    "## Kernel density estimation\n",
    "\n",
    "Kernel density estimation\n",
    "\n",
    "$$\n",
    "\\widehat{f}_h(x) = \\frac{1}{nh}\\sum_{i=1}^n K\\left(\\frac{x-x_i}{h}\\right)\n",
    "$$\n",
    "\n",
    "where $k$ is the kernel function that can take different forms. \n",
    "\n",
    "A uniform kernel function can be written as:\n",
    "\n",
    "$$\n",
    "K(u) = 1/2\n",
    "$$\n",
    "\n",
    "A Gaussian kernel function is\n",
    "\n",
    "$$\n",
    "K(u) = \\sqrt{\\frac{1}{2\\pi}} e^{-\\frac{1}{2}u^2}\n",
    "$$\n",
    "\n",
    "Here we define our own kdf functions:"
   ]
  },
  {
   "cell_type": "code",
   "execution_count": 1,
   "metadata": {
    "collapsed": true
   },
   "outputs": [],
   "source": [
    "%matplotlib inline\n",
    "import matplotlib.pyplot as plt\n",
    "import seaborn as sns; sns.set()\n",
    "import numpy as np\n",
    "import multiprocessing as mp\n",
    "\n",
    "from sklearn.neighbors import KernelDensity\n",
    "import timeit"
   ]
  },
  {
   "cell_type": "code",
   "execution_count": 2,
   "metadata": {
    "collapsed": true
   },
   "outputs": [],
   "source": [
    "def distance(x, y): \n",
    "    '''distance between two vectors'''\n",
    "    return np.sqrt(np.sum((x-y)**2))\n",
    "\n",
    "def kde_rect(data, x, h):\n",
    "    '''\n",
    "    Kernel density estimation, using rectangular kernel\n",
    "    \n",
    "    Input\n",
    "        data   samples, a numpy array of D x n, D is the dimesion a data item\n",
    "        x      a point of D dimensional data in a numpy array\n",
    "               this is where the density is estimated\n",
    "        h      bandwidh\n",
    "        \n",
    "    Output\n",
    "        kernel density probability\n",
    "    '''\n",
    "    k = 0\n",
    "    for p in data:\n",
    "        u = distance(x.T, p)\n",
    "        if u<h:\n",
    "            k += 1/2\n",
    "    return k/len(data)/h\n",
    "\n",
    "def kde_gau(neighbors, x, h):\n",
    "    '''\n",
    "    Kernel density estimation, using Gaussian kernel\n",
    "    '''\n",
    "    k = 0\n",
    "    for p in neighbors:\n",
    "        u = distance(x.T, p)/h\n",
    "        k += np.exp(-0.5*np.square(u))/np.sqrt(2*np.pi)\n",
    "    return k/len(neighbors)/h"
   ]
  },
  {
   "cell_type": "markdown",
   "metadata": {},
   "source": [
    "Below we compare (and validate) these functions with the example from the *Python Data Science Handbook* book where the author has a in-depth blog at [here](https://jakevdp.github.io/PythonDataScienceHandbook/05.13-kernel-density-estimation.html). This example starts with a function that can be used to make one-dimensional data set:"
   ]
  },
  {
   "cell_type": "code",
   "execution_count": 3,
   "metadata": {
    "collapsed": true
   },
   "outputs": [],
   "source": [
    "def make_data(N, f=0.3, rseed=1):\n",
    "    rand = np.random.RandomState(rseed)\n",
    "    x = rand.randn(N)\n",
    "    x[int(f * N):] += 5\n",
    "    return x"
   ]
  },
  {
   "cell_type": "code",
   "execution_count": 4,
   "metadata": {},
   "outputs": [
    {
     "data": {
      "image/png": "[encoded data removed]",
      "text/plain": [
       "<matplotlib.figure.Figure at 0x1132ed6a0>"
      ]
     },
     "metadata": {},
     "output_type": "display_data"
    }
   ],
   "source": [
    "x = make_data(200)\n",
    "\n",
    "ax = plt.gca()\n",
    "ax.plot(x, np.full_like(x, -0.01), '|k', markeredgewidth=0.5)\n",
    "\n",
    "plt.hist(x, bins=30, normed=True)\n",
    "ax.set_ylim(-0.02, )\n",
    "plt.show()"
   ]
  },
  {
   "cell_type": "markdown",
   "metadata": {},
   "source": [
    "We want to estimate the density probability on these points:"
   ]
  },
  {
   "cell_type": "code",
   "execution_count": 5,
   "metadata": {
    "collapsed": true
   },
   "outputs": [],
   "source": [
    "x_d = np.linspace(-4, 8, 2000)"
   ]
  },
  {
   "cell_type": "markdown",
   "metadata": {},
   "source": [
    "Now we use the kernel density estimation function in the sklean library to estimate:"
   ]
  },
  {
   "cell_type": "code",
   "execution_count": 6,
   "metadata": {
    "collapsed": true
   },
   "outputs": [],
   "source": [
    "# instantiate and fit the KDE model\n",
    "kde = KernelDensity(bandwidth=1.0, kernel='tophat')\n",
    "kde.fit(x[:, None]) # x[:, None] makes [x, x, ...] to [ [x], [x], ...]\n",
    "\n",
    "# score_samples returns the log of the probability density\n",
    "logprob = kde.score_samples(x_d[:, None])"
   ]
  },
  {
   "cell_type": "markdown",
   "metadata": {},
   "source": [
    "Then we test our own functions to see if they produce the same results:"
   ]
  },
  {
   "cell_type": "code",
   "execution_count": 7,
   "metadata": {
    "collapsed": true
   },
   "outputs": [],
   "source": [
    "newest = [kde_rect(x, x_i, 1) for x_i in x_d]"
   ]
  },
  {
   "cell_type": "markdown",
   "metadata": {},
   "source": [
    "It noticeable takes longer to finish. But the result is the same nonetheless (below). The performance is expected: we use list that is not supposed to be efficient though convenient."
   ]
  },
  {
   "cell_type": "code",
   "execution_count": 8,
   "metadata": {},
   "outputs": [
    {
     "data": {
      "image/png": "[encoded data removed]",
      "text/plain": [
       "<matplotlib.figure.Figure at 0x113443160>"
      ]
     },
     "metadata": {},
     "output_type": "display_data"
    }
   ],
   "source": [
    "fig, ax = plt.subplots(1, 2, figsize=(12, 4), \n",
    "                       subplot_kw={'xlim':(-4, 9), 'ylim':(-0.02, 0.3)})\n",
    "\n",
    "ax[0].fill_between(x_d, np.exp(logprob), alpha=0.5)\n",
    "ax[0].plot(x, np.full_like(x, -0.01), '|k', markeredgewidth=0.5)\n",
    "\n",
    "ax[1].fill_between(x_d, newest, alpha=0.5)\n",
    "ax[1].plot(x, np.full_like(x, -0.01), '|k', markeredgewidth=0.5)\n",
    "\n",
    "plt.show()"
   ]
  },
  {
   "cell_type": "markdown",
   "metadata": {
    "collapsed": true
   },
   "source": [
    "Here is an example of using multidimensional data. This is a quick test and the data is from Raschka's blog at [here](http://sebastianraschka.com/Articles/2014_multiprocessing.html). Specifically, we can use a 3-D data set:"
   ]
  },
  {
   "cell_type": "code",
   "execution_count": 20,
   "metadata": {},
   "outputs": [
    {
     "data": {
      "text/plain": [
       "0.15"
      ]
     },
     "execution_count": 20,
     "metadata": {},
     "output_type": "execute_result"
    }
   ],
   "source": [
    "# samples within the cube\n",
    "X_inside = np.array([[0,0,0],[0.2,0.2,0.2],[0.1, -0.1, -0.3]])\n",
    "\n",
    "X_outside = np.array([[-1.2,0.3,-0.3],[0.8,-0.82,-0.9],[1, 0.6, -0.7],\n",
    "                      [0.8,0.7,0.2],[0.7,-0.8,-0.45],[-0.3, 0.6, 0.9],\n",
    "                      [0.7,-0.6,-0.8]])\n",
    "\n",
    "point_x = np.array([[0],[0],[0]])\n",
    "X_all = np.vstack((X_inside, X_outside))\n",
    "\n",
    "kde_rect(X_all, point_x, 1)"
   ]
  },
  {
   "cell_type": "markdown",
   "metadata": {
    "collapsed": true
   },
   "source": [
    "Note the original blog has the result of 0.3, which is because they used a different kernel function that returns 1 (instead of 0.5) if x is within the bandwidth. The result from scilearn is also different."
   ]
  },
  {
   "cell_type": "code",
   "execution_count": 21,
   "metadata": {},
   "outputs": [
    {
     "data": {
      "text/plain": [
       "array([ 0.07161972])"
      ]
     },
     "execution_count": 21,
     "metadata": {},
     "output_type": "execute_result"
    }
   ],
   "source": [
    "kde = KernelDensity(bandwidth=1, kernel='tophat')\n",
    "kde.fit(X_all)\n",
    "np.exp(kde.score_samples(point_x.T))"
   ]
  },
  {
   "cell_type": "markdown",
   "metadata": {},
   "source": [
    "### Parallel kernel density estimation"
   ]
  },
  {
   "cell_type": "markdown",
   "metadata": {},
   "source": [
    "We first, again, do a test to see if the parallel version works as same as the sequential version."
   ]
  },
  {
   "cell_type": "code",
   "execution_count": 9,
   "metadata": {
    "collapsed": true
   },
   "outputs": [],
   "source": [
    "def kdeworker(x_i):\n",
    "    return kde_rect(x, x_i, 1)\n",
    "\n",
    "x_d = np.linspace(-4, 8, 2000)\n",
    "pool = mp.Pool(processes=4)\n",
    "results = pool.map_async(kdeworker, x_d)\n",
    "output = results.get()\n"
   ]
  },
  {
   "cell_type": "code",
   "execution_count": 10,
   "metadata": {},
   "outputs": [
    {
     "data": {
      "image/png": "[encoded data removed]",
      "text/plain": [
       "<matplotlib.figure.Figure at 0x113a71710>"
      ]
     },
     "metadata": {},
     "output_type": "display_data"
    }
   ],
   "source": [
    "fig, ax = plt.subplots(1, 2, figsize=(12, 4), \n",
    "                       subplot_kw={'xlim':(-4, 9), 'ylim':(-0.02, 0.3)})\n",
    "\n",
    "ax[0].fill_between(x_d, output, alpha=0.5)\n",
    "ax[0].plot(x, np.full_like(x, -0.01), '|k', markeredgewidth=0.5)\n",
    "\n",
    "ax[1].fill_between(x_d, newest, alpha=0.5)\n",
    "ax[1].plot(x, np.full_like(x, -0.01), '|k', markeredgewidth=0.5)\n",
    "\n",
    "plt.show()"
   ]
  },
  {
   "cell_type": "markdown",
   "metadata": {},
   "source": [
    "We want a good way to record running time. The timeit module is useful here. The following functions are used for testing."
   ]
  },
  {
   "cell_type": "code",
   "execution_count": 11,
   "metadata": {
    "collapsed": true
   },
   "outputs": [],
   "source": [
    "def kdeworker(x_i):\n",
    "    return kde_rect(x, x_i, 1)\n",
    "\n",
    "def test_kde_parallel(numproc):\n",
    "    pool = mp.Pool(processes=numproc)\n",
    "    results = pool.map_async(kdeworker, x_d)\n",
    "    output = results.get()\n",
    "    \n",
    "def test_kde_serial():\n",
    "    return [kde_rect(x, x_i, 1) for x_i in x_d]"
   ]
  },
  {
   "cell_type": "code",
   "execution_count": 25,
   "metadata": {},
   "outputs": [
    {
     "data": {
      "text/plain": [
       "1.2821130689699203"
      ]
     },
     "execution_count": 25,
     "metadata": {},
     "output_type": "execute_result"
    }
   ],
   "source": [
    "x_d = np.linspace(-4, 8, 1000)\n",
    "\n",
    "timeit.Timer('test_kde_serial()',\n",
    "            'from __main__ import test_kde_serial').timeit(number=1)"
   ]
  },
  {
   "cell_type": "code",
   "execution_count": 26,
   "metadata": {},
   "outputs": [
    {
     "data": {
      "text/plain": [
       "0.7836477080127224"
      ]
     },
     "execution_count": 26,
     "metadata": {},
     "output_type": "execute_result"
    }
   ],
   "source": [
    "numproc = 4\n",
    "timeit.Timer('test_kde_parallel(numproc)',\n",
    "            'from __main__ import test_kde_parallel, numproc').timeit(number=1)"
   ]
  },
  {
   "cell_type": "markdown",
   "metadata": {},
   "source": [
    "Now it seems everything works! Let's try more points and different processes."
   ]
  },
  {
   "cell_type": "code",
   "execution_count": 27,
   "metadata": {
    "collapsed": true
   },
   "outputs": [],
   "source": [
    "x_d = np.linspace(-4, 8, 2000)\n",
    "times = []\n",
    "\n",
    "times.append(timeit.Timer('test_kde_serial()',\n",
    "            'from __main__ import test_kde_serial').timeit(number=1))\n",
    "\n",
    "processes = [1, 2, 3, 4, 5, 6]\n",
    "for proc in processes:\n",
    "    t = timeit.Timer('test_kde_parallel(proc)',\n",
    "            'from __main__ import test_kde_parallel, proc').timeit(number=1)\n",
    "    times.append(t)"
   ]
  },
  {
   "cell_type": "code",
   "execution_count": 28,
   "metadata": {
    "scrolled": true
   },
   "outputs": [
    {
     "data": {
      "text/plain": [
       "[2.50549890199909,\n",
       " 2.469709015043918,\n",
       " 1.3715505849686451,\n",
       " 1.3437778640072793,\n",
       " 1.4246428109472618,\n",
       " 1.4285255779977888,\n",
       " 1.5169947510003112]"
      ]
     },
     "execution_count": 28,
     "metadata": {},
     "output_type": "execute_result"
    }
   ],
   "source": [
    "times"
   ]
  },
  {
   "cell_type": "markdown",
   "metadata": {},
   "source": [
    "We also increase the number of points to be estimated to 10000. It should be noted that I had to restart the Python kernel and run only the necessary steps to make the following code functional, because the notebook reports \"Too many open files\" when it runs continuously to this point. "
   ]
  },
  {
   "cell_type": "code",
   "execution_count": 12,
   "metadata": {
    "collapsed": true
   },
   "outputs": [],
   "source": [
    "x_d = np.linspace(-4, 8, 10000)\n",
    "\n",
    "times = []\n",
    "\n",
    "times.append(timeit.Timer('test_kde_serial()',\n",
    "            'from __main__ import test_kde_serial').timeit(number=1))\n",
    "\n",
    "processes = [1, 2, 3, 4, 5, 6]\n",
    "for proc in processes:\n",
    "    t = timeit.Timer('test_kde_parallel(proc)',\n",
    "            'from __main__ import test_kde_parallel, proc').timeit(number=1)\n",
    "    times.append(t)"
   ]
  },
  {
   "cell_type": "code",
   "execution_count": 13,
   "metadata": {},
   "outputs": [
    {
     "data": {
      "text/plain": [
       "[11.886058239964768,\n",
       " 11.86131586204283,\n",
       " 6.890743159048725,\n",
       " 6.648359165992588,\n",
       " 6.9483613290358335,\n",
       " 7.1245807179948315,\n",
       " 6.889364224974997]"
      ]
     },
     "execution_count": 13,
     "metadata": {},
     "output_type": "execute_result"
    }
   ],
   "source": [
    "times"
   ]
  },
  {
   "cell_type": "code",
   "execution_count": 138,
   "metadata": {
    "scrolled": false
   },
   "outputs": [
    {
     "data": {
      "image/png": "[encoded data removed]",
      "text/plain": [
       "<matplotlib.figure.Figure at 0x117a1fa20>"
      ]
     },
     "metadata": {},
     "output_type": "display_data"
    }
   ],
   "source": [
    "bar_labels = ['serial', '1', '2', '3', '4', '5', '6']\n",
    "\n",
    "y_pos = np.arange(len(times))\n",
    "bars = plt.bar(y_pos, times, align='center', alpha=0.4)\n",
    "\n",
    "for ba, be in zip(bars, times):\n",
    "    plt.text(ba.get_x()+ba.get_width()/2, ba.get_y() + ba.get_height(), \n",
    "            '{:.1f}'.format(times[0]/be),\n",
    "            ha='center', va='bottom', fontsize=10)\n",
    "\n",
    "plt.xticks(y_pos, bar_labels)\n",
    "plt.ylabel('Time (s)')\n",
    "plt.xlabel('number of processes')\n",
    "plt.title('Speedup: MacBook Pro (2.6 GHz Intel Core i5)')\n",
    "plt.ylim([0, max(times)*1.1])\n",
    "plt.show()"
   ]
  },
  {
   "cell_type": "markdown",
   "metadata": {},
   "source": [
    "The above is run on a MacBook Pro with a 2.6 GHz Intel Core i5. But the result may sound depressing! But I tried exactly the same code on a Linux machine with 8 cores:\n",
    "\n",
    "```\n",
    "Python      : 3.5.1\n",
    "compiler    : GCC 6.1.1 20160621 (Red Hat 6.1.1-3)\n",
    "system      : Linux\n",
    "release     : 4.7.5-200.fc24.x86_64\n",
    "machine     : x86_64\n",
    "processor   : x86_64\n",
    "CPU count   : 8\n",
    "Interpreter : 64bit\n",
    "```\n",
    "\n",
    "We can't get more specific info about the CPU, but this is a Dell Workstation with 2 quad-core Xeon 2.8 GHz and here is the outcome for the number of processes ranging from 1 to 10:\n",
    "\n",
    "`[29.00154008716345, 29.08831214904785, 14.774640083312988, 10.029979228973389, 7.395297527313232, 5.9974565505981445, 5.006225824356079, 4.2783331871032715, 3.8418874740600586, 4.013907432556152, 3.8412973880767822]`\n",
    "\n",
    "These are actually great results and the plot shows it:"
   ]
  },
  {
   "cell_type": "code",
   "execution_count": 122,
   "metadata": {},
   "outputs": [
    {
     "data": {
      "image/png": "[encoded data removed]",
      "text/plain": [
       "<matplotlib.figure.Figure at 0x113c70358>"
      ]
     },
     "metadata": {},
     "output_type": "display_data"
    }
   ],
   "source": [
    "results = [29.00154008716345, 29.08831214904785, 14.774640083312988, 10.029979228973389, 7.395297527313232, 5.9974565505981445, 5.006225824356079, 4.2783331871032715, 3.8418874740600586, 4.013907432556152, 3.8412973880767822]\n",
    "\n",
    "plt.plot(results[1:])\n",
    "plt.show()"
   ]
  },
  {
   "cell_type": "code",
   "execution_count": 136,
   "metadata": {
    "scrolled": false
   },
   "outputs": [
    {
     "data": {
      "image/png": "[encoded data removed]",
      "text/plain": [
       "<matplotlib.figure.Figure at 0x1061ae1d0>"
      ]
     },
     "metadata": {},
     "output_type": "display_data"
    }
   ],
   "source": [
    "# plt.rcdefaults()\n",
    "\n",
    "bar_labels = ['serial', '1', '2', '3', '4', '5', '6', '7', '8', '9', '10']\n",
    "y_pos = np.arange(len(results))\n",
    "bars = plt.bar(y_pos, results, align='center', alpha=0.5)\n",
    "\n",
    "for ba, be in zip(bars, results):\n",
    "    plt.text(ba.get_x()+ba.get_width()/2, ba.get_y() + ba.get_height(), \n",
    "            '{:.1f}'.format(results[0]/be),\n",
    "            ha='center', va='bottom', fontsize=10)\n",
    "\n",
    "plt.xticks(y_pos, bar_labels)\n",
    "plt.ylabel('Time (s)')\n",
    "plt.xlabel('Number of processes')\n",
    "plt.title('Speedup: Linux on Xeon Workstation')\n",
    "plt.show()"
   ]
  },
  {
   "cell_type": "markdown",
   "metadata": {},
   "source": [
    "The following is obtained using a [Raspberry PI 3 Model B](https://www.raspberrypi.org/products/raspberry-pi-3-model-b/) with a Quad Core 1.2GHz Broadcom BCM2837 64bit CPU."
   ]
  },
  {
   "cell_type": "code",
   "execution_count": 134,
   "metadata": {},
   "outputs": [
    {
     "data": {
      "image/png": "[encoded data removed]",
      "text/plain": [
       "<matplotlib.figure.Figure at 0x119c18710>"
      ]
     },
     "metadata": {},
     "output_type": "display_data"
    }
   ],
   "source": [
    "piresults = [137.48287486799973, 138.27194261550903, 69.1136245727539, 49.99051880836487, 50.78684687614441, 57.31438446044922, 58.498544454574585]\n",
    "bar_labels = ['serial', '1', '2', '3', '4', '5', '6']\n",
    "\n",
    "y_pos = np.arange(len(piresults))\n",
    "bars = plt.bar(y_pos, piresults, align='center', alpha=0.4)\n",
    "\n",
    "for ba, be in zip(bars, piresults):\n",
    "    plt.text(ba.get_x()+ba.get_width()/2, ba.get_y() + ba.get_height(), \n",
    "            '{:.1f}'.format(piresults[0]/be),\n",
    "            ha='center', va='bottom', fontsize=10)\n",
    "\n",
    "plt.xticks(y_pos, bar_labels)\n",
    "plt.ylabel('Time (s)')\n",
    "plt.xlabel('number of processes')\n",
    "plt.title('Speedup: Raspberry PI 3 Model B')\n",
    "plt.ylim([0, max(piresults)*1.1])\n",
    "plt.show()"
   ]
  },
  {
   "cell_type": "markdown",
   "metadata": {},
   "source": [
    "## Parallel computing on a cluster\n",
    "\n",
    "We cannot use scoop in a jupyter notebook because scoop needs to be run from a command line. But below is the code that we use to test:\n",
    "\n",
    "```python\n",
    "from scoop import futures\n",
    "import numpy as np\n",
    "\n",
    "def distance(x, y):\n",
    "    '''distance between two vectors'''\n",
    "    return np.sqrt(np.sum((x-y)**2))\n",
    "\n",
    "def kde_rect(data, x, h):\n",
    "    '''\n",
    "    Kernel density estimation, using rectangular kernel\n",
    "\n",
    "    Input\n",
    "        data   samples, a numpy array of D x n, D is the dimesion a data item\n",
    "        x      a point of D dimensional data in a numpy array\n",
    "               this is where the density is estimated\n",
    "        h      bandwidh\n",
    "\n",
    "    Output\n",
    "        kernel density probability\n",
    "    '''\n",
    "    k = 0\n",
    "    for p in data:\n",
    "        u = distance(x.T, p)\n",
    "        if u<h:\n",
    "            k += 1/2\n",
    "    return k/len(data)/h\n",
    "\n",
    "def kde_gau(neighbors, x, h):\n",
    "    '''\n",
    "    Kernel density estimation, using Gaussian kernel\n",
    "    '''\n",
    "    k = 0\n",
    "    for p in neighbors:\n",
    "        u = distance(x.T, p)/h\n",
    "        k += np.exp(-0.5*np.square(u))/np.sqrt(2*np.pi)\n",
    "    return k/len(neighbors)/h\n",
    "\n",
    "# by default, we use the same random seed to get the same results\n",
    "def make_data(N, f=0.3, rseed=1):\n",
    "    rand = np.random.RandomState(rseed)\n",
    "    x = rand.randn(N)\n",
    "    x[int(f * N):] += 5\n",
    "    return x\n",
    "\n",
    "def kdeworker(x_i):\n",
    "    return kde_rect(x, x_i, 1)\n",
    "\n",
    "x = make_data(200)\n",
    "x_d = np.linspace(-4, 8, 2000)\n",
    "\n",
    "import pickle\n",
    "\n",
    "if __name__ == \"__main__\":\n",
    "    # returnValues = list(futures.map(helloWorld, range(16)))\n",
    "    results = futures.map(kdeworker, x_d)\n",
    "    # print(list(results))\n",
    "    dump = { 'x_d': x_d, 'results': list(results)}\n",
    "    pickle.dump(dump, open( 'kde_results_scoop.pickle', 'wb' ) )\n",
    "    # dump = pickle.load(open('kde_results_scoop.pickle', 'rb'))\n",
    "```"
   ]
  },
  {
   "cell_type": "markdown",
   "metadata": {},
   "source": [
    "We can run this program in the command line:\n",
    "\n",
    "`python3 -m scoop -n 8 --hostfile hostfile kde_scoop.py`\n",
    "\n",
    "\n",
    "The above program saves the output to a pickle file. Pickle is a very useful python module and a quick tutorial can be found at [here](https://wiki.python.org/moin/UsingPickle). Now we get the results back and place it side by side with what we have got before for a comparison."
   ]
  },
  {
   "cell_type": "code",
   "execution_count": 1,
   "metadata": {
    "collapsed": true
   },
   "outputs": [],
   "source": [
    "import pickle"
   ]
  },
  {
   "cell_type": "code",
   "execution_count": 2,
   "metadata": {
    "collapsed": true
   },
   "outputs": [],
   "source": [
    "dump = pickle.load(open('kde_results_scoop.pickle', 'rb'))\n",
    "x_d = dump['x_d']\n",
    "results = dump['results']"
   ]
  },
  {
   "cell_type": "code",
   "execution_count": 94,
   "metadata": {},
   "outputs": [
    {
     "data": {
      "image/png": "[encoded data removed]",
      "text/plain": [
       "<matplotlib.figure.Figure at 0x115470978>"
      ]
     },
     "metadata": {},
     "output_type": "display_data"
    }
   ],
   "source": [
    "fig, ax = plt.subplots(1, 2, figsize=(12, 4), \n",
    "                       subplot_kw={'xlim':(-4, 9), 'ylim':(-0.02, 0.3)})\n",
    "\n",
    "ax[0].fill_between(x_d, results, alpha=0.5)\n",
    "ax[0].plot(x, np.full_like(x, -0.01), '|k', markeredgewidth=0.5)\n",
    "\n",
    "ax[1].fill_between(x_d, newest, alpha=0.5)\n",
    "ax[1].plot(x, np.full_like(x, -0.01), '|k', markeredgewidth=0.5)\n",
    "\n",
    "plt.show()"
   ]
  },
  {
   "cell_type": "markdown",
   "metadata": {},
   "source": [
    "So it works on a computer cluster using scoop. "
   ]
  },
  {
   "cell_type": "markdown",
   "metadata": {},
   "source": [
    "We now test an embarrassingly parallel case of calculating the value of $\\pi$ using a Monte Carlo approach. This is an example from the scoop documentation at [here](http://scoop.readthedocs.io/en/0.7/examples.html) and the code is listed below:\n",
    "\n",
    "```python\n",
    "# run it using python3 -m scoop -n 11 --hostfile hostfile get-pi.py \n",
    "# on local: python3 -m scoop -n 4 get-pi.py \n",
    "from math import hypot\n",
    "from random import random\n",
    "from scoop import futures\n",
    "import time\n",
    "\n",
    "def test(tries):\n",
    "    return sum(hypot(random(), random()) < 1 for _ in range(tries))\n",
    "\n",
    "def calcPi(nbFutures, tries):\n",
    "    expr = futures.map(test, [tries] * nbFutures)\n",
    "    return 4. * sum(expr) / float(nbFutures * tries)\n",
    "\n",
    "if __name__ == \"__main__\":\n",
    "    t1 = time.time()\n",
    "    print(\"pi = {}\".format(calcPi(3000, 5000)))\n",
    "    t2 = time.time()\n",
    "    print('time:', t2-t1)\n",
    "```\n",
    "\n",
    "This is run on the PI cluster using various settings:"
   ]
  },
  {
   "cell_type": "code",
   "execution_count": 135,
   "metadata": {},
   "outputs": [
    {
     "data": {
      "image/png": "[encoded data removed]",
      "text/plain": [
       "<matplotlib.figure.Figure at 0x11563de48>"
      ]
     },
     "metadata": {},
     "output_type": "display_data"
    }
   ],
   "source": [
    "bar_labels = ['1*', '2', '2*', '3', '3*', '4', '4*', '5', '6', '7', '8', '9', '10', '11', '12', '16']\n",
    "piresults = [71.65142703056335, 38.91786599159241, 29.40711545944214, 29.065842151641846, 20.15361213684082, 19.853610038757324, 15.730499029159546, 14.978558540344238, 13.375933408737183, 11.893508434295654, 10.091248512268066, 8.796955108642578, 8.110694646835327, 7.640932321548462, 6.89350152015686, 5.483535289764404]\n",
    "y_pos = np.arange(len(piresults))\n",
    "bars = plt.bar(y_pos, piresults, align='center', alpha=0.4)\n",
    "\n",
    "for ba, be in zip(bars, piresults):\n",
    "    plt.text(ba.get_x()+ba.get_width()/2, ba.get_y() + ba.get_height(), \n",
    "            '{:.1f}'.format(piresults[0]/be),\n",
    "            ha='center', va='bottom', fontsize=8)\n",
    "\n",
    "plt.xticks(y_pos, bar_labels)\n",
    "plt.ylabel('Time (s)')\n",
    "plt.xlabel('number of processes (* means local)')\n",
    "plt.title('Speedup: Raspberry PI 3 Model B')\n",
    "plt.ylim([0, max(piresults)*1.1])\n",
    "plt.show()"
   ]
  },
  {
   "cell_type": "markdown",
   "metadata": {},
   "source": [
    "## References\n",
    "\n",
    "Materials presented in this notebook are adopted and extended from various online sources:\n",
    "\n",
    "https://wiki.python.org/moin/ParallelProcessing\n",
    "\n",
    "http://sebastianraschka.com/Articles/2014_multiprocessing.html\n",
    "\n",
    "https://jakevdp.github.io/PythonDataScienceHandbook/05.13-kernel-density-estimation.html\n",
    "\n",
    "http://scoop.readthedocs.io/en/0.7/examples.html"
   ]
  }
 ],
 "metadata": {
  "kernelspec": {
   "display_name": "Python 3",
   "language": "python",
   "name": "python3"
  },
  "language_info": {
   "codemirror_mode": {
    "name": "ipython",
    "version": 3
   },
   "file_extension": ".py",
   "mimetype": "text/x-python",
   "name": "python",
   "nbconvert_exporter": "python",
   "pygments_lexer": "ipython3",
   "version": "3.6.3"
  }
 },
 "nbformat": 4,
 "nbformat_minor": 2
}
